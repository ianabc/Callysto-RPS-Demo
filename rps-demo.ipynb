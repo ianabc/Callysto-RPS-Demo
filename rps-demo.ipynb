{
 "cells": [
  {
   "cell_type": "code",
   "execution_count": 1,
   "metadata": {},
   "outputs": [],
   "source": [
    "import numpy as np\n",
    "\n",
    "from RPS import RPSCanvas, Solver, generate_state"
   ]
  },
  {
   "cell_type": "markdown",
   "metadata": {},
   "source": [
    "# Math Mania: Rock Paper Scissors\n",
    "\n",
    "This notebook demonstrates a notebook version of the Math Mania \"Rock, Paper, Scissors\" game. The implementation was done by [Andrew Zhang](https://github.com/gnahzwerdna) and is intended to become part of the Callysto project corpus of notebooks.\n",
    "\n",
    "## Objective\n",
    "\n",
    "The object of this game is to clear the grid of all objects except one, using the traditional game of rock paper scissors.\n",
    "\n",
    "## Rules\n",
    "\n",
    "To remove a square you need to use the rules of rock-paper-scissors and you can only move horizontally or vertically. For example if you have a rock horizontally next to a pair of scissors you can click the rock first, then the scissors to remove the scissors from the board\n",
    "\n",
    " 1. You can only move horizontally or vertically\n",
    " 1. You can only remove objects on adjacent squares\n",
    " 1. The usual rules of rock-paper-scissors apply.\n",
    " \n",
    " \n",
    "> If you don't see any squares below. Select `Run->Run All Cells` from the menu above."
   ]
  },
  {
   "cell_type": "markdown",
   "metadata": {},
   "source": [
    "## Game 1: Randomly Generated Square\n",
    "\n",
    "We can generate boards of any size, but we can only realistically solve $<4\\times 4$. You can specify a configuration by making 2D array of the letters 'R', 'P' or 'S' (for Rock, Paper, Scissors), e.g.\n",
    "\n",
    "```python\n",
    "c = RPSCanvas(\n",
    "  [\n",
    "      ['P', 'S', 'R'],\n",
    "      ['P', 'S', 'P'],\n",
    "      ['P', 'R', 'R']\n",
    "  ]\n",
    ")\n",
    "```\n"
   ]
  },
  {
   "cell_type": "code",
   "execution_count": 2,
   "metadata": {},
   "outputs": [
    {
     "data": {
      "application/vnd.jupyter.widget-view+json": {
       "model_id": "18b2dfae6c6e441b8966d5f683fb3919",
       "version_major": 2,
       "version_minor": 0
      },
      "text/plain": [
       "Canvas(height=450, width=750)"
      ]
     },
     "metadata": {},
     "output_type": "display_data"
    }
   ],
   "source": [
    "c = RPSCanvas(\n",
    "     [\n",
    "         ['P', 'S', 'R'],\n",
    "         ['P', 'S', 'P'],\n",
    "         ['P', 'R', 'R']\n",
    "     ]\n",
    ")\n",
    "c.solver = Solver(c.num_x, c.num_y)\n",
    "c.solver.solve_all();\n",
    "c.canvas"
   ]
  },
  {
   "cell_type": "markdown",
   "metadata": {},
   "source": [
    "## Interesting Examples\n",
    "\n",
    "`layout1a` and `layout1b` look very similar but only `layout1a` is solvable. This is because of the order of operations"
   ]
  },
  {
   "cell_type": "code",
   "execution_count": 3,
   "metadata": {},
   "outputs": [
    {
     "data": {
      "application/vnd.jupyter.widget-view+json": {
       "model_id": "17ce5059db3f4323b2bb469c95eaf2dc",
       "version_major": 2,
       "version_minor": 0
      },
      "text/plain": [
       "Canvas(height=450, width=750)"
      ]
     },
     "metadata": {},
     "output_type": "display_data"
    }
   ],
   "source": [
    "layout1a = [\n",
    "    ['R', 'P', 'S'],\n",
    "    ['P', 'R', 'P'],\n",
    "    ['S', 'P', 'R']\n",
    "]\n",
    "\n",
    "c1a = RPSCanvas(layout1a)\n",
    "\n",
    "c1a.solver = Solver(c1a.num_x, c1a.num_y)\n",
    "c1a.solver.solve_all();\n",
    "c1a.canvas"
   ]
  },
  {
   "cell_type": "code",
   "execution_count": 4,
   "metadata": {},
   "outputs": [
    {
     "data": {
      "application/vnd.jupyter.widget-view+json": {
       "model_id": "04b1b5cc481f49a8a7d23258895be160",
       "version_major": 2,
       "version_minor": 0
      },
      "text/plain": [
       "Canvas(height=450, width=750)"
      ]
     },
     "metadata": {},
     "output_type": "display_data"
    }
   ],
   "source": [
    "layout1b = [\n",
    "    ['R', 'S', 'P'],\n",
    "    ['S', 'R', 'S'],\n",
    "    ['P', 'S', 'R']\n",
    "]\n",
    "\n",
    "c1b = RPSCanvas(layout1b)\n",
    "\n",
    "c1b.solver = Solver(c1b.num_x, c1b.num_y)\n",
    "c1b.solver.solve_all();\n",
    "c1b.canvas"
   ]
  },
  {
   "cell_type": "markdown",
   "metadata": {},
   "source": [
    "`layout1c` is a permutation or relabeling of `layout1b` and is solvable."
   ]
  },
  {
   "cell_type": "code",
   "execution_count": null,
   "metadata": {},
   "outputs": [],
   "source": [
    "layout1c = [\n",
    "    ['S', 'P', 'R'],\n",
    "    ['P', 'S', 'P'],\n",
    "    ['R', 'P', 'S']\n",
    "]\n",
    "\n",
    "c1c = RPSCanvas(layout1a)\n",
    "\n",
    "c1c.solver = Solver(c1c.num_x, c1c.num_y)\n",
    "c1c.solver.solve_all();\n",
    "c1c.canvas"
   ]
  },
  {
   "cell_type": "code",
   "execution_count": null,
   "metadata": {},
   "outputs": [],
   "source": []
  }
 ],
 "metadata": {
  "interpreter": {
   "hash": "3938f0424392a52507d5868844af0c76a8321260d2540f45701ada869b4031ac"
  },
  "kernelspec": {
   "display_name": "Python 3 (ipykernel)",
   "language": "python",
   "name": "python3"
  },
  "language_info": {
   "codemirror_mode": {
    "name": "ipython",
    "version": 3
   },
   "file_extension": ".py",
   "mimetype": "text/x-python",
   "name": "python",
   "nbconvert_exporter": "python",
   "pygments_lexer": "ipython3",
   "version": "3.8.10"
  }
 },
 "nbformat": 4,
 "nbformat_minor": 4
}
