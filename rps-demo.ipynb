{
 "cells": [
  {
   "cell_type": "markdown",
   "metadata": {},
   "source": [
    "# Math Mania: Rock Paper Scissors\n",
    "\n",
    "This notebook demonstrates a notebook version of the Math Mania \"Rock, Paper, Scissors\" game. The implementation was done by [Andrew Zhang](https://github.com/gnahzwerdna) and is intended to become part of the Callysto project corpus of notebooks.\n",
    "\n",
    "## Objective\n",
    "\n",
    "The object of this game is to clear the grid of all objects except one, using the traditional game of rock paper scissors.\n",
    "\n",
    "## Rules\n",
    "\n",
    "To remove a square you need to use the rules of rock-paper-scissors and you can only move horizontally or vertically. For example if you have a rock horizontally next to a pair of scissors you can click the rock first, then the scissors to remove the scissors from the board\n",
    "\n",
    " 1. You can only move horizontally or vertically\n",
    " 1. You can only remove objects on adjacent squares\n",
    " 1. The usual rules of rock-paper-scissors apply.\n",
    " \n",
    " \n",
    "> If you don't see any squares below. Select `Run->Run All Cells` from the menu above."
   ]
  },
  {
   "cell_type": "markdown",
   "metadata": {},
   "source": [
    "## Game 1: Randomly Generated Square\n",
    "\n",
    "We can generate boards of any size, but we can only realistically solve $<4\\times 4$"
   ]
  },
  {
   "cell_type": "code",
   "execution_count": 1,
   "metadata": {
    "jupyter": {
     "source_hidden": true
    },
    "tags": []
   },
   "outputs": [
    {
     "data": {
      "application/vnd.jupyter.widget-view+json": {
       "model_id": "f2a9d637c5bf4f1083102d9a8433e881",
       "version_major": 2,
       "version_minor": 0
      },
      "text/plain": [
       "Canvas(height=600, width=1000)"
      ]
     },
     "metadata": {},
     "output_type": "display_data"
    }
   ],
   "source": [
    "import numpy as np\n",
    "\n",
    "from RPS import RPSCanvas, Solver, generate_state\n",
    "\n",
    "dim1 = 3\n",
    "dim2 = 3\n",
    "\n",
    "solver = Solver(dim1, dim2)\n",
    "\n",
    "initial_state, solution_list = generate_state(dim1, dim2)\n",
    "\n",
    "solver.add_solution(solution_list)\n",
    "\n",
    "\n",
    "c = RPSCanvas(initial_state, solver=solver)\n",
    "c.canvas"
   ]
  },
  {
   "cell_type": "markdown",
   "metadata": {},
   "source": [
    "## Game 2: An Existing Board\n",
    "\n",
    "This board is one of the \"Easy\" Selection from Melania's photos"
   ]
  },
  {
   "cell_type": "code",
   "execution_count": 4,
   "metadata": {},
   "outputs": [
    {
     "name": "stdout",
     "output_type": "stream",
     "text": [
      "0\n",
      "1000\n",
      "2000\n",
      "3000\n",
      "4000\n",
      "5000\n",
      "6000\n",
      "7000\n",
      "8000\n",
      "9000\n",
      "10000\n",
      "11000\n",
      "12000\n",
      "13000\n",
      "14000\n",
      "15000\n",
      "16000\n",
      "17000\n",
      "18000\n",
      "19000\n"
     ]
    },
    {
     "data": {
      "application/vnd.jupyter.widget-view+json": {
       "model_id": "5ec5b14eb1ed44cea282baba21c170d9",
       "version_major": 2,
       "version_minor": 0
      },
      "text/plain": [
       "Canvas(height=600, width=1000)"
      ]
     },
     "metadata": {},
     "output_type": "display_data"
    }
   ],
   "source": [
    "c = RPSCanvas(\n",
    "    np.array([[2,2,2],[3,3,1],[1,2,1]])\n",
    ")\n",
    "c.solver = Solver(c.num_x, c.num_y)\n",
    "c.solver.solve_all();\n",
    "c.canvas"
   ]
  },
  {
   "cell_type": "code",
   "execution_count": null,
   "metadata": {},
   "outputs": [],
   "source": []
  }
 ],
 "metadata": {
  "interpreter": {
   "hash": "3938f0424392a52507d5868844af0c76a8321260d2540f45701ada869b4031ac"
  },
  "kernelspec": {
   "display_name": "Python 3 (ipykernel)",
   "language": "python",
   "name": "python3"
  },
  "language_info": {
   "codemirror_mode": {
    "name": "ipython",
    "version": 3
   },
   "file_extension": ".py",
   "mimetype": "text/x-python",
   "name": "python",
   "nbconvert_exporter": "python",
   "pygments_lexer": "ipython3",
   "version": "3.8.10"
  }
 },
 "nbformat": 4,
 "nbformat_minor": 4
}
