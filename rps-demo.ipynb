{
 "cells": [
  {
   "cell_type": "code",
   "execution_count": null,
   "metadata": {},
   "outputs": [],
   "source": [
    "import numpy as np\n",
    "\n",
    "from RPS import RPSCanvas, Solver, generate_state"
   ]
  },
  {
   "cell_type": "markdown",
   "metadata": {},
   "source": [
    "# Math Mania: Rock Paper Scissors\n",
    "\n",
    "This notebook demonstrates a notebook version of the Math Mania \"Rock, Paper, Scissors\" game. The implementation was done by [Andrew Zhang](https://github.com/gnahzwerdna) and is intended to become part of the Callysto project corpus of notebooks.\n",
    "\n",
    "## Objective\n",
    "\n",
    "The object of this game is to clear the grid of all objects except one, using the traditional game of rock paper scissors.\n",
    "\n",
    "## Rules\n",
    "\n",
    "To remove a square you need to use the rules of rock-paper-scissors and you can only move horizontally or vertically. For example if you have a rock horizontally next to a pair of scissors you can click the rock first, then the scissors to remove the scissors from the board\n",
    "\n",
    " 1. You can only move horizontally or vertically\n",
    " 1. You can only remove objects on adjacent squares\n",
    " 1. The usual rules of rock-paper-scissors apply.\n",
    " \n",
    " \n",
    "> If you don't see any squares below. Select `Run->Run All Cells` from the menu above."
   ]
  },
  {
   "cell_type": "markdown",
   "metadata": {},
   "source": [
    "## Game 1: Randomly Generated Square\n",
    "\n",
    "We can generate boards of any size, but we can only realistically solve $<4\\times 4$"
   ]
  },
  {
   "cell_type": "code",
   "execution_count": null,
   "metadata": {},
   "outputs": [],
   "source": [
    "c = RPSCanvas(\n",
    "     np.array([[2,2,2],[3,3,1],[1,2,1]])\n",
    ")\n",
    "c.solver = Solver(c.num_x, c.num_y)\n",
    "c.solver.solve_all();\n",
    "c.canvas"
   ]
  }
 ],
 "metadata": {
  "interpreter": {
   "hash": "3938f0424392a52507d5868844af0c76a8321260d2540f45701ada869b4031ac"
  },
  "kernelspec": {
   "display_name": "Python 3 (ipykernel)",
   "language": "python",
   "name": "python3"
  },
  "language_info": {
   "codemirror_mode": {
    "name": "ipython",
    "version": 3
   },
   "file_extension": ".py",
   "mimetype": "text/x-python",
   "name": "python",
   "nbconvert_exporter": "python",
   "pygments_lexer": "ipython3",
   "version": "3.8.10"
  }
 },
 "nbformat": 4,
 "nbformat_minor": 4
}
