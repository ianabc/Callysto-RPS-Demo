{
 "cells": [
  {
   "cell_type": "code",
   "execution_count": null,
   "metadata": {},
   "outputs": [],
   "source": [
    "import numpy as np\n",
    "\n",
    "from RPS import RPSCanvas, Solver, generate_state"
   ]
  },
  {
   "cell_type": "markdown",
   "metadata": {},
   "source": [
    "# Math Mania: Rock Paper Scissors\n",
    "\n",
    "This notebook demonstrates a notebook version of the Math Mania \"Rock, Paper, Scissors\" game. The implementation was done by [Andrew Zhang](https://github.com/gnahzwerdna) and is intended to become part of the Callysto project corpus of notebooks.\n",
    "\n",
    "## Objective\n",
    "\n",
    "The object of this game is to clear the grid of all objects except one, using the traditional game of rock paper scissors.\n",
    "\n",
    "## Rules\n",
    "\n",
    "To remove a square you need to use the rules of rock-paper-scissors and you can only move horizontally or vertically. For example if you have a rock horizontally next to a pair of scissors you can click the rock first, then the scissors to remove the scissors from the board\n",
    "\n",
    " 1. You can only move horizontally or vertically\n",
    " 1. You can only remove objects on adjacent squares\n",
    " 1. The usual rules of rock-paper-scissors apply.\n",
    " \n",
    " \n",
    "> If you don't see any squares below. Select `Run->Run All Cells` from the menu above."
   ]
  },
  {
   "cell_type": "markdown",
   "metadata": {},
   "source": [
    "## Game 1: Puzzles from the Math Mania Board Game\n",
    "\n",
    "The Example below is from the physical Rock-Paper-Scissors Game. We can add them using the following notation...\n",
    "\n",
    "```python\n",
    "c = RPSCanvas(\n",
    "  [\n",
    "      ['P', 'S', 'R'],\n",
    "      ['P', 'S', 'P'],\n",
    "      ['P', 'R', 'R']\n",
    "  ]\n",
    ")\n",
    "```\n"
   ]
  },
  {
   "cell_type": "code",
   "execution_count": null,
   "metadata": {},
   "outputs": [],
   "source": [
    "c = RPSCanvas(\n",
    "     [\n",
    "         ['P', 'P', 'P'],\n",
    "         ['S', 'S', 'R'],\n",
    "         ['R', 'P', 'R']\n",
    "     ]\n",
    ")\n",
    "c.solver = Solver(c.num_x, c.num_y)\n",
    "c.solver.solve_all();\n",
    "c.canvas"
   ]
  },
  {
   "cell_type": "markdown",
   "metadata": {},
   "source": [
    "## Game 2: The Unsolvable $3\\times 3$ Game\n",
    "\n",
    "This board is included in the physical Math Mania game, but is actually unsolvable. You can check this by running \"Get Hint\" against it"
   ]
  },
  {
   "cell_type": "code",
   "execution_count": null,
   "metadata": {},
   "outputs": [],
   "source": [
    "cT = RPSCanvas(\n",
    "    [\n",
    "      ['P', 'S', 'R'],\n",
    "      ['P', 'P', 'R'],\n",
    "      ['P', 'S', 'S']\n",
    "    ]\n",
    ")\n",
    "cT.solver = Solver(cT.num_x, cT.num_y)\n",
    "cT.solver.solve_all();\n",
    "cT.canvas"
   ]
  },
  {
   "cell_type": "markdown",
   "metadata": {},
   "source": [
    "## Game 3: 2x2 simple\n",
    "\n",
    "We could include some simple $2\\times 2$ games to help beginner students understand the concept, e.g."
   ]
  },
  {
   "cell_type": "code",
   "execution_count": null,
   "metadata": {},
   "outputs": [],
   "source": [
    "c2 = RPSCanvas(\n",
    "    [\n",
    "      ['P', 'S'],\n",
    "      ['P', 'R']\n",
    "    ]\n",
    ")\n",
    "c2.solver = Solver(c2.num_x, c2.num_y)\n",
    "c2.solver.solve_all();\n",
    "c2.canvas"
   ]
  },
  {
   "cell_type": "markdown",
   "metadata": {},
   "source": [
    "## Other Interesting Games\n",
    "\n",
    "Another idea would be to look at how we can break puzzles. Below, `layout1a` and `layout1b` look very similar (Paper and Scissors are swapped) but only `layout1a` is solvable. This is because of the order of operations (`R->S->P`). This might be interesting to demonstrate or dive into, we could look at operations which preserve a solution etc."
   ]
  },
  {
   "cell_type": "code",
   "execution_count": null,
   "metadata": {},
   "outputs": [],
   "source": [
    "layout1a = [\n",
    "    ['R', 'S', 'P'],\n",
    "    ['S', 'R', 'S'],\n",
    "    ['P', 'S', 'R']\n",
    "]\n",
    "\n",
    "c1a = RPSCanvas(layout1a)\n",
    "\n",
    "c1a.solver = Solver(c1a.num_x, c1a.num_y)\n",
    "c1a.solver.solve_all();\n",
    "c1a.canvas"
   ]
  },
  {
   "cell_type": "code",
   "execution_count": null,
   "metadata": {},
   "outputs": [],
   "source": [
    "layout1b = [\n",
    "    ['R', 'P', 'S'],\n",
    "    ['P', 'R', 'P'],\n",
    "    ['S', 'P', 'R']    \n",
    "]\n",
    "\n",
    "c1b = RPSCanvas(layout1b)\n",
    "\n",
    "c1b.solver = Solver(c1b.num_x, c1b.num_y)\n",
    "c1b.solver.solve_all();\n",
    "c1b.canvas"
   ]
  },
  {
   "cell_type": "markdown",
   "metadata": {},
   "source": [
    "`layout1c` is a permutation or relabeling of `layout1a` and is solvable."
   ]
  },
  {
   "cell_type": "code",
   "execution_count": null,
   "metadata": {},
   "outputs": [],
   "source": [
    "layout1c = [\n",
    "    ['S', 'P', 'R'],\n",
    "    ['P', 'S', 'P'],\n",
    "    ['R', 'P', 'S']\n",
    "]\n",
    "\n",
    "c1c = RPSCanvas(layout1c)\n",
    "\n",
    "c1c.solver = Solver(c1c.num_x, c1c.num_y)\n",
    "c1c.solver.solve_all();\n",
    "c1c.canvas"
   ]
  }
 ],
 "metadata": {
  "interpreter": {
   "hash": "3938f0424392a52507d5868844af0c76a8321260d2540f45701ada869b4031ac"
  },
  "kernelspec": {
   "display_name": "Python 3 (ipykernel)",
   "language": "python",
   "name": "python3"
  },
  "language_info": {
   "codemirror_mode": {
    "name": "ipython",
    "version": 3
   },
   "file_extension": ".py",
   "mimetype": "text/x-python",
   "name": "python",
   "nbconvert_exporter": "python",
   "pygments_lexer": "ipython3",
   "version": "3.9.6"
  }
 },
 "nbformat": 4,
 "nbformat_minor": 4
}
